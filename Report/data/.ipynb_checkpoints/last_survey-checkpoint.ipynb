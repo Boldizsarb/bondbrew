{
 "cells": [
  {
   "cell_type": "code",
   "execution_count": 1,
   "id": "84212a81",
   "metadata": {},
   "outputs": [],
   "source": [
    "import matplotlib.pyplot as plt\n",
    "import pandas as pd\n",
    "import seaborn as sns\n",
    "df = pd.read_csv(\"last_survey.csv\", encoding='latin1')"
   ]
  },
  {
   "cell_type": "code",
   "execution_count": 2,
   "id": "e5589fb9",
   "metadata": {},
   "outputs": [
    {
     "data": {
      "text/plain": [
       "Ease of Use (1-5)                          4.633333\n",
       "Experience with Chatbot (1-5)              4.566667\n",
       "Experience with Planning System (1-5)      4.500000\n",
       "Effectiveness of Profile Matching (1-5)    4.333333\n",
       "Helps Develop Relationships (1-5)          4.766667\n",
       "dtype: float64"
      ]
     },
     "execution_count": 2,
     "metadata": {},
     "output_type": "execute_result"
    }
   ],
   "source": [
    "mean_values = df.iloc[:, :5].mean()\n",
    "mean_values"
   ]
  },
  {
   "cell_type": "code",
   "execution_count": 4,
   "id": "607f3d85",
   "metadata": {
    "scrolled": true
   },
   "outputs": [
    {
     "data": {
      "text/html": [
       "<div>\n",
       "<style scoped>\n",
       "    .dataframe tbody tr th:only-of-type {\n",
       "        vertical-align: middle;\n",
       "    }\n",
       "\n",
       "    .dataframe tbody tr th {\n",
       "        vertical-align: top;\n",
       "    }\n",
       "\n",
       "    .dataframe thead th {\n",
       "        text-align: right;\n",
       "    }\n",
       "</style>\n",
       "<table border=\"1\" class=\"dataframe\">\n",
       "  <thead>\n",
       "    <tr style=\"text-align: right;\">\n",
       "      <th></th>\n",
       "      <th>Yes</th>\n",
       "      <th>No</th>\n",
       "      <th>Proportion Yes</th>\n",
       "      <th>Proportion No</th>\n",
       "    </tr>\n",
       "  </thead>\n",
       "  <tbody>\n",
       "    <tr>\n",
       "      <th>Better than Niche Planning (Yes, No)</th>\n",
       "      <td>19</td>\n",
       "      <td>11</td>\n",
       "      <td>0.633333</td>\n",
       "      <td>0.366667</td>\n",
       "    </tr>\n",
       "    <tr>\n",
       "      <th>Replace a Social Media App (Yes, No)</th>\n",
       "      <td>23</td>\n",
       "      <td>7</td>\n",
       "      <td>0.766667</td>\n",
       "      <td>0.233333</td>\n",
       "    </tr>\n",
       "    <tr>\n",
       "      <th>Increase Real-world Social Interactions (Yes, No)</th>\n",
       "      <td>23</td>\n",
       "      <td>7</td>\n",
       "      <td>0.766667</td>\n",
       "      <td>0.233333</td>\n",
       "    </tr>\n",
       "  </tbody>\n",
       "</table>\n",
       "</div>"
      ],
      "text/plain": [
       "                                                   Yes  No  Proportion Yes  \\\n",
       "Better than Niche Planning (Yes, No)                19  11        0.633333   \n",
       "Replace a Social Media App (Yes, No)                23   7        0.766667   \n",
       "Increase Real-world Social Interactions (Yes, No)   23   7        0.766667   \n",
       "\n",
       "                                                   Proportion No  \n",
       "Better than Niche Planning (Yes, No)                    0.366667  \n",
       "Replace a Social Media App (Yes, No)                    0.233333  \n",
       "Increase Real-world Social Interactions (Yes, No)       0.233333  "
      ]
     },
     "execution_count": 4,
     "metadata": {},
     "output_type": "execute_result"
    }
   ],
   "source": [
    "# frequency  annalysis of the yes and no \n",
    "num_respondents = 30\n",
    "frequency_analysis = df.iloc[:, 5:8].apply(pd.Series.value_counts).T\n",
    "frequency_analysis['Proportion Yes'] = frequency_analysis['Yes'] / num_respondents\n",
    "frequency_analysis['Proportion No'] = frequency_analysis['No'] / num_respondents\n",
    "frequency_analysis"
   ]
  },
  {
   "cell_type": "code",
   "execution_count": 7,
   "id": "66e767e7",
   "metadata": {},
   "outputs": [
    {
     "data": {
      "text/plain": [
       "(   Keyword/Phrase  Frequency\n",
       " 0          better          9\n",
       " 1  better support          3\n",
       " 2           buggy          3\n",
       " 3   customization          3\n",
       " 4          faster          3\n",
       " 5        features          3\n",
       " 6     interactive          3\n",
       " 7         privacy          3\n",
       " 8         support          3\n",
       " 9    availability          2,\n",
       "        Keyword/Phrase  Frequency\n",
       " 0                good          4\n",
       " 1            matching          4\n",
       " 2              design          3\n",
       " 3                ease          3\n",
       " 4            ease use          3\n",
       " 5           effective          3\n",
       " 6  effective matching          3\n",
       " 7            features          3\n",
       " 8            friendly          3\n",
       " 9          innovative          3)"
      ]
     },
     "execution_count": 7,
     "metadata": {},
     "output_type": "execute_result"
    }
   ],
   "source": [
    "## thematic annalysis: \n",
    "import pandas as pd\n",
    "from sklearn.feature_extraction.text import CountVectorizer\n",
    "\n",
    "improvement_responses = df['Suggested Improvements'].tolist()\n",
    "like_most_responses = df['What You Like Most'].tolist()\n",
    "\n",
    "def extract_keywords(text_list):\n",
    "    vectorizer = CountVectorizer(stop_words='english', ngram_range=(1, 2))\n",
    "    X = vectorizer.fit_transform(text_list)\n",
    "    word_freq = X.toarray().sum(axis=0)\n",
    "    keywords = vectorizer.get_feature_names_out()\n",
    "    freq_dist = dict(zip(keywords, word_freq))\n",
    "    sorted_keywords = sorted(freq_dist.items(), key=lambda x: x[1], reverse=True)\n",
    "    return pd.DataFrame(sorted_keywords, columns=['Keyword/Phrase', 'Frequency']).head(10)\n",
    "\n",
    "# Perform analysis\n",
    "df_improvements = extract_keywords(improvement_responses)\n",
    "df_likes = extract_keywords(like_most_responses)\n",
    "\n",
    "df_improvements, df_likes"
   ]
  },
  {
   "cell_type": "code",
   "execution_count": null,
   "id": "b81244b0",
   "metadata": {},
   "outputs": [],
   "source": []
  }
 ],
 "metadata": {
  "kernelspec": {
   "display_name": "Python 3 (ipykernel)",
   "language": "python",
   "name": "python3"
  },
  "language_info": {
   "codemirror_mode": {
    "name": "ipython",
    "version": 3
   },
   "file_extension": ".py",
   "mimetype": "text/x-python",
   "name": "python",
   "nbconvert_exporter": "python",
   "pygments_lexer": "ipython3",
   "version": "3.11.5"
  }
 },
 "nbformat": 4,
 "nbformat_minor": 5
}
